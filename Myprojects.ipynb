{
  "cells": [
    {
      "cell_type": "code",
      "execution_count": null,
      "metadata": {
        "colab": {
          "base_uri": "https://localhost:8080/"
        },
        "id": "UVuNCI_7-obR",
        "outputId": "54f12cc4-192b-4ad3-bc8b-ad1624e609db"
      },
      "outputs": [
        {
          "name": "stdout",
          "output_type": "stream",
          "text": [
            "press enter to roll dice\n",
            "6\n",
            "do you want to continue?(y/n)a\n",
            "thank you\n"
          ]
        }
      ],
      "source": [
        "#dice rolling game\n",
        "def aron():\n",
        "  import random\n",
        "  def steef():\n",
        "    return random.randint(1,6)\n",
        "  input(\"press enter to roll dice\")\n",
        "  print(steef())\n",
        "  a=str(input(\"do you want to continue?(y/n)\"))\n",
        "  if(a!='y'):\n",
        "    print(\"thank you\")\n",
        "  else:\n",
        "    aron()\n",
        "aron()"
      ]
    },
    {
      "cell_type": "code",
      "execution_count": null,
      "metadata": {
        "id": "htbycXq_2nKs"
      },
      "outputs": [],
      "source": [
        "#splitting mail as name and domain\n",
        "a=str(input(\"emter your mail id\"))\n",
        "x=a.split(@)\n",
        "print(\"your user name is\",x[0])\n",
        "print(\"your domain is\",x[1])"
      ]
    },
    {
      "cell_type": "code",
      "execution_count": null,
      "metadata": {
        "colab": {
          "base_uri": "https://localhost:8080/"
        },
        "id": "mmWPpGjN23GF",
        "outputId": "2cb75004-f926-4f08-b654-7904edbf138b"
      },
      "outputs": [
        {
          "name": "stdout",
          "output_type": "stream",
          "text": [
            "e\n",
            "e\n",
            "['s', 't', 'e', 'e', 'b', 'a', 'n', ' ', 'a', 'r', 'o', 'n']\n"
          ]
        }
      ],
      "source": [
        "#word split and check\n",
        "a=\"steeban aron\"\n",
        "b=[]\n",
        "for i in a:\n",
        "  b.append(i)\n",
        "  if(i==\"e\"):\n",
        "    print(i)\n",
        "print(b)"
      ]
    },
    {
      "cell_type": "code",
      "execution_count": null,
      "metadata": {
        "colab": {
          "base_uri": "https://localhost:8080/"
        },
        "id": "nYBR7SDRQgML",
        "outputId": "63eb2b25-3f96-4cc7-ee29-c0c13e48d836"
      },
      "outputs": [
        {
          "name": "stdout",
          "output_type": "stream",
          "text": [
            "enter the number  20\n",
            "twenty zero\n"
          ]
        }
      ],
      "source": [
        "#number to letters,. eg:i/p-30,o/p-thirty\n",
        "a=['zero','one','two','three','four','five','six','seven','eight','nine','ten''eleven','twelve','thirteen','fourteen','fifteen','sixteen','seventeen','eighteen','nineteen']\n",
        "e=['twenty','thirty','fourty','fifty','sixty','seventy','eighty','ninety']\n",
        "c=0\n",
        "d=int(input(\"enter the number  \"))\n",
        "for i in a:\n",
        "  if(c==d):\n",
        "    print(i)\n",
        "    break\n",
        "  else:\n",
        "    c=c+1\n",
        "for i in range(20,100):\n",
        "  z=d%10\n",
        "  q=int(str(d)[0])\n",
        "  if(c==d):\n",
        "    print(e[q-2],a[z])\n",
        "    break\n",
        "  else:\n",
        "    c=c+1\n",
        "\n"
      ]
    },
    {
      "cell_type": "code",
      "execution_count": null,
      "metadata": {
        "id": "_OcDFryZSHMe"
      },
      "outputs": [],
      "source": [
        "numbers = ['zero', 'one', 'two', 'three', 'four', 'five', 'six', 'seven', 'eight', 'nine', 'ten', 'eleven', 'twelve', 'thirteen', 'fourteen', 'fifteen', 'sixteen', 'seventeen', 'eighteen', 'nineteen', 'twenty']\n",
        "d = int(input(\"Enter a number: \"))\n",
        "if 0 <= d <= 20:\n",
        "    print(numbers[d])\n",
        "else:\n",
        "    print(\"Invalid number. Please enter a number between 0 and 20.\")"
      ]
    }
  ],
  "metadata": {
    "colab": {
      "provenance": []
    },
    "kernelspec": {
      "display_name": "Python 3",
      "name": "python3"
    },
    "language_info": {
      "name": "python"
    }
  },
  "nbformat": 4,
  "nbformat_minor": 0
}